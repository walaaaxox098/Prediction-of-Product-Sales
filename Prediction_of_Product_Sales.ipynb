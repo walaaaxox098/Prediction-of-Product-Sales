{
  "nbformat": 4,
  "nbformat_minor": 0,
  "metadata": {
    "colab": {
      "provenance": [],
      "authorship_tag": "ABX9TyNkSwB7z7a0xfRqKkdn/K8b",
      "include_colab_link": true
    },
    "kernelspec": {
      "name": "python3",
      "display_name": "Python 3"
    },
    "language_info": {
      "name": "python"
    }
  },
  "cells": [
    {
      "cell_type": "markdown",
      "metadata": {
        "id": "view-in-github",
        "colab_type": "text"
      },
      "source": [
        "<a href=\"https://colab.research.google.com/github/walaaaxox098/Prediction-of-Product-Sales/blob/main/Prediction_of_Product_Sales.ipynb\" target=\"_parent\"><img src=\"https://colab.research.google.com/assets/colab-badge.svg\" alt=\"Open In Colab\"/></a>"
      ]
    },
    {
      "cell_type": "markdown",
      "source": [
        "# Project 1 - Part 1 (Core)\n",
        " - Author: Walaa abdalaziz\n",
        ""
      ],
      "metadata": {
        "id": "wImZZ-Zxh_1F"
      }
    },
    {
      "cell_type": "markdown",
      "source": [
        "Project Overview"
      ],
      "metadata": {
        "id": "FeG_uDIkiQvZ"
      }
    },
    {
      "cell_type": "markdown",
      "source": [
        "Load and Inspect Data"
      ],
      "metadata": {
        "id": "ulLOnoNMiUnC"
      }
    },
    {
      "cell_type": "code",
      "source": [],
      "metadata": {
        "id": "5usBMYLViaek"
      },
      "execution_count": null,
      "outputs": []
    },
    {
      "cell_type": "markdown",
      "source": [
        "Clean Data"
      ],
      "metadata": {
        "id": "wzOKX3oYibTb"
      }
    },
    {
      "cell_type": "code",
      "source": [],
      "metadata": {
        "id": "uKJ9y_WqieB6"
      },
      "execution_count": null,
      "outputs": []
    },
    {
      "cell_type": "markdown",
      "source": [
        "Exploratory Data Analysis"
      ],
      "metadata": {
        "id": "of7Cnk3XifuQ"
      }
    },
    {
      "cell_type": "code",
      "source": [],
      "metadata": {
        "id": "m1_g_E7LiiHo"
      },
      "execution_count": null,
      "outputs": []
    },
    {
      "cell_type": "markdown",
      "source": [
        "Feature Inspection"
      ],
      "metadata": {
        "id": "xlco0D_Hiio9"
      }
    },
    {
      "cell_type": "code",
      "source": [],
      "metadata": {
        "id": "oUaZ-HHGilUl"
      },
      "execution_count": null,
      "outputs": []
    }
  ]
}