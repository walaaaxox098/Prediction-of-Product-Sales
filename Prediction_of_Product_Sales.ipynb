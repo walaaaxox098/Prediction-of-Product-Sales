{
  "nbformat": 4,
  "nbformat_minor": 0,
  "metadata": {
    "colab": {
      "provenance": [],
      "mount_file_id": "1tGzYRTmbVoWhTV13UIVFmxP1ap6J_d9H",
      "authorship_tag": "ABX9TyNxy9XsA2r0M+ildHEoT3hN",
      "include_colab_link": true
    },
    "kernelspec": {
      "name": "python3",
      "display_name": "Python 3"
    },
    "language_info": {
      "name": "python"
    }
  },
  "cells": [
    {
      "cell_type": "markdown",
      "metadata": {
        "id": "view-in-github",
        "colab_type": "text"
      },
      "source": [
        "<a href=\"https://colab.research.google.com/github/walaaaxox098/Prediction-of-Product-Sales/blob/main/Prediction_of_Product_Sales.ipynb\" target=\"_parent\"><img src=\"https://colab.research.google.com/assets/colab-badge.svg\" alt=\"Open In Colab\"/></a>"
      ]
    },
    {
      "cell_type": "markdown",
      "source": [
        "# Project 1 - Part 1 (Core)\n",
        " - Author: Walaa abdalaziz\n",
        ""
      ],
      "metadata": {
        "id": "wImZZ-Zxh_1F"
      }
    },
    {
      "cell_type": "markdown",
      "source": [
        "Project Overview"
      ],
      "metadata": {
        "id": "FeG_uDIkiQvZ"
      }
    },
    {
      "cell_type": "markdown",
      "source": [
        "Load and Inspect Data"
      ],
      "metadata": {
        "id": "ulLOnoNMiUnC"
      }
    },
    {
      "cell_type": "code",
      "source": [
        "import pandas as pd\n",
        "fname = \"/content/drive/MyDrive/AXSOSACADEMY/01-Fundamentals/Week02/sales_predictions_2023.csv\"\n",
        "df = pd.read_csv(fname)\n",
        "df.head()\n",
        "df.info()"
      ],
      "metadata": {
        "colab": {
          "base_uri": "https://localhost:8080/"
        },
        "id": "5usBMYLViaek",
        "outputId": "f5f64d5e-432a-42ca-c7de-b7711cb5ecd1"
      },
      "execution_count": 2,
      "outputs": [
        {
          "output_type": "stream",
          "name": "stdout",
          "text": [
            "<class 'pandas.core.frame.DataFrame'>\n",
            "RangeIndex: 8523 entries, 0 to 8522\n",
            "Data columns (total 12 columns):\n",
            " #   Column                     Non-Null Count  Dtype  \n",
            "---  ------                     --------------  -----  \n",
            " 0   Item_Identifier            8523 non-null   object \n",
            " 1   Item_Weight                7060 non-null   float64\n",
            " 2   Item_Fat_Content           8523 non-null   object \n",
            " 3   Item_Visibility            8523 non-null   float64\n",
            " 4   Item_Type                  8523 non-null   object \n",
            " 5   Item_MRP                   8523 non-null   float64\n",
            " 6   Outlet_Identifier          8523 non-null   object \n",
            " 7   Outlet_Establishment_Year  8523 non-null   int64  \n",
            " 8   Outlet_Size                6113 non-null   object \n",
            " 9   Outlet_Location_Type       8523 non-null   object \n",
            " 10  Outlet_Type                8523 non-null   object \n",
            " 11  Item_Outlet_Sales          8523 non-null   float64\n",
            "dtypes: float64(4), int64(1), object(7)\n",
            "memory usage: 799.2+ KB\n"
          ]
        }
      ]
    },
    {
      "cell_type": "markdown",
      "source": [
        "Clean Data"
      ],
      "metadata": {
        "id": "wzOKX3oYibTb"
      }
    },
    {
      "cell_type": "code",
      "source": [
        "print(\"raws and columns of the dataset:\", df.shape)\n",
        "print(\"\\nData Types:\\n\", df.dtypes)\n",
        "duplicates = df.duplicated().sum()\n",
        "\n",
        "print(\"\\nNumber of duplicate rows:\", duplicates)\n",
        "df = df.drop_duplicates()\n",
        "print(\"\\nMissing Values:\\n\", df.isnull().sum())\n",
        "\n",
        "df.fillna(\"0\", inplace=True)\n",
        "print(\"\\nMissing Values After Cleaning:\\n\", df.isnull().sum())\n",
        "\n",
        "df['Item_Fat_Content'] = df['Item_Fat_Content'].replace({'low fat': 'Low Fat'})\n",
        "df['Item_Fat_Content'] = df['Item_Fat_Content'].replace({'LF': 'Low Fat'})\n",
        "\n",
        "min_values = df.min(numeric_only=True)\n",
        "max_values = df.max(numeric_only=True)\n",
        "mean_values = df.mean(numeric_only=True)\n",
        "\n",
        "print(\"\\nMinimum Values:\\n\", min_values)\n",
        "print(\"\\nMaximum Values:\\n\", max_values)\n",
        "print(\"\\nMean Values:\\n\", mean_values)"
      ],
      "metadata": {
        "colab": {
          "base_uri": "https://localhost:8080/"
        },
        "id": "uKJ9y_WqieB6",
        "outputId": "238965df-9426-47cd-a881-a0b9deac86a4"
      },
      "execution_count": 10,
      "outputs": [
        {
          "output_type": "stream",
          "name": "stdout",
          "text": [
            "raws and columns of the dataset: (8523, 12)\n",
            "\n",
            "Data Types:\n",
            " Item_Identifier               object\n",
            "Item_Weight                   object\n",
            "Item_Fat_Content              object\n",
            "Item_Visibility              float64\n",
            "Item_Type                     object\n",
            "Item_MRP                     float64\n",
            "Outlet_Identifier             object\n",
            "Outlet_Establishment_Year      int64\n",
            "Outlet_Size                   object\n",
            "Outlet_Location_Type          object\n",
            "Outlet_Type                   object\n",
            "Item_Outlet_Sales            float64\n",
            "dtype: object\n",
            "\n",
            "Number of duplicate rows: 0\n",
            "\n",
            "Missing Values:\n",
            " Item_Identifier              0\n",
            "Item_Weight                  0\n",
            "Item_Fat_Content             0\n",
            "Item_Visibility              0\n",
            "Item_Type                    0\n",
            "Item_MRP                     0\n",
            "Outlet_Identifier            0\n",
            "Outlet_Establishment_Year    0\n",
            "Outlet_Size                  0\n",
            "Outlet_Location_Type         0\n",
            "Outlet_Type                  0\n",
            "Item_Outlet_Sales            0\n",
            "dtype: int64\n",
            "\n",
            "Missing Values After Cleaning:\n",
            " Item_Identifier              0\n",
            "Item_Weight                  0\n",
            "Item_Fat_Content             0\n",
            "Item_Visibility              0\n",
            "Item_Type                    0\n",
            "Item_MRP                     0\n",
            "Outlet_Identifier            0\n",
            "Outlet_Establishment_Year    0\n",
            "Outlet_Size                  0\n",
            "Outlet_Location_Type         0\n",
            "Outlet_Type                  0\n",
            "Item_Outlet_Sales            0\n",
            "dtype: int64\n",
            "\n",
            "Minimum Values:\n",
            " Item_Visibility                 0.00\n",
            "Item_MRP                       31.29\n",
            "Outlet_Establishment_Year    1985.00\n",
            "Item_Outlet_Sales              33.29\n",
            "dtype: float64\n",
            "\n",
            "Maximum Values:\n",
            " Item_Visibility                  0.328391\n",
            "Item_MRP                       266.888400\n",
            "Outlet_Establishment_Year     2009.000000\n",
            "Item_Outlet_Sales            13086.964800\n",
            "dtype: float64\n",
            "\n",
            "Mean Values:\n",
            " Item_Visibility                 0.066132\n",
            "Item_MRP                      140.992782\n",
            "Outlet_Establishment_Year    1997.831867\n",
            "Item_Outlet_Sales            2181.288914\n",
            "dtype: float64\n"
          ]
        }
      ]
    },
    {
      "cell_type": "markdown",
      "source": [
        "Exploratory Data Analysis"
      ],
      "metadata": {
        "id": "of7Cnk3XifuQ"
      }
    },
    {
      "cell_type": "code",
      "source": [],
      "metadata": {
        "id": "m1_g_E7LiiHo"
      },
      "execution_count": null,
      "outputs": []
    },
    {
      "cell_type": "markdown",
      "source": [
        "Feature Inspection"
      ],
      "metadata": {
        "id": "xlco0D_Hiio9"
      }
    },
    {
      "cell_type": "code",
      "source": [],
      "metadata": {
        "id": "oUaZ-HHGilUl"
      },
      "execution_count": null,
      "outputs": []
    }
  ]
}